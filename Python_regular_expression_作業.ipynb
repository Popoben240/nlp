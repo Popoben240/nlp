{
 "cells": [
  {
   "cell_type": "markdown",
   "metadata": {
    "colab_type": "text",
    "id": "tTJolmzeBLGr"
   },
   "source": [
    "# 作業目標: 使用python正規表達式對資料進行清洗處理\n",
    "\n",
    "這份作業我們會使用詐欺郵件的文本資料來作為清洗與處理的操作。\n",
    "[資料集](https://www.kaggle.com/rtatman/fraudulent-email-corpus/data#)"
   ]
  },
  {
   "cell_type": "markdown",
   "metadata": {
    "colab_type": "text",
    "id": "vhv0OElTBLGs"
   },
   "source": [
    "### 讀入資料文本\n",
    "因原始文本較大，先使用部份擷取的**sample_emails.txt**來進行練習"
   ]
  },
  {
   "cell_type": "code",
   "execution_count": 18,
   "metadata": {
    "colab": {},
    "colab_type": "code",
    "id": "a0BdDqt1BLGt"
   },
   "outputs": [
    {
     "name": "stdout",
     "output_type": "stream",
     "text": [
      "['From r  Wed Oct 30 21:41:56 2002', 'Return-Path: <james_ngola2002@maktoob.com>', 'X-Sieve: cmu-sieve 2.0', 'Return-Path: <james_ngola2002@maktoob.com>', 'Message-Id: <200210310241.g9V2fNm6028281@cs.CU>', 'From: \"MR. JAMES NGOLA.\" <james_ngola2002@maktoob.com>', 'Reply-To: james_ngola2002@maktoob.com', 'To: webmaster@aclweb.org', 'Date: Thu, 31 Oct 2002 02:38:20 +0000', 'Subject: URGENT BUSINESS ASSISTANCE AND PARTNERSHIP', 'X-Mailer: Microsoft Outlook Express 5.00.2919.6900 DM', 'MIME-Version: 1.0', 'Content-Type: text/plain; charset=\"us-ascii\"', 'Content-Transfer-Encoding: 8bit', 'X-MIME-Autoconverted: from quoted-printable to 8bit by sideshowmel.si.UM id g9V2foW24311', 'Status: O', '', 'FROM:MR. JAMES NGOLA.', 'CONFIDENTIAL TEL: 233-27-587908.', 'E-MAIL: (james_ngola2002@maktoob.com).', '', 'URGENT BUSINESS ASSISTANCE AND PARTNERSHIP.', '', '', 'DEAR FRIEND,', '', 'I AM ( DR.) JAMES NGOLA, THE PERSONAL ASSISTANCE TO THE LATE CONGOLESE (PRESIDENT LAURENT KABILA) WHO WAS ASSASSINATED BY HIS BODY GUARD ON 16TH JAN. 2001.', '', '', 'THE INCIDENT OCCURRED IN OUR PRESENCE WHILE WE WERE HOLDING MEETING WITH HIS EXCELLENCY OVER THE FINANCIAL RETURNS FROM THE DIAMOND SALES IN THE AREAS CONTROLLED BY (D.R.C.) DEMOCRATIC REPUBLIC OF CONGO FORCES AND THEIR FOREIGN ALLIES ANGOLA AND ZIMBABWE, HAVING RECEIVED THE PREVIOUS DAY (USD$100M) ONE HUNDRED MILLION UNITED STATES DOLLARS, CASH IN THREE DIPLOMATIC BOXES ROUTED THROUGH ZIMBABWE.', '', 'MY PURPOSE OF WRITING YOU THIS LETTER IS TO SOLICIT FOR YOUR ASSISTANCE AS TO BE A COVER TO THE FUND AND ALSO COLLABORATION IN MOVING THE SAID FUND INTO YOUR BANK ACCOUNT THE SUM OF (USD$25M) TWENTY FIVE MILLION UNITED STATES DOLLARS ONLY, WHICH I DEPOSITED WITH A SECURITY COMPANY IN GHANA, IN A DIPLOMATIC BOX AS GOLDS WORTH (USD$25M) TWENTY FIVE MILLION UNITED STATES DOLLARS ONLY FOR SAFE KEEPING IN A SECURITY VAULT FOR ANY FURTHER INVESTMENT PERHAPS IN YOUR COUNTRY. ', '', 'YOU WERE INTRODUCED TO ME BY A RELIABLE FRIEND OF MINE WHO IS A TRAVELLER,AND ALSO A MEMBER OF CHAMBER OF COMMERCE AS A RELIABLE AND TRUSTWORTHY PERSON WHOM I CAN RELY ON AS FOREIGN PARTNER, EVEN THOUGH THE NATURE OF THE TRANSACTION WAS NOT REVEALED TO HIM FOR SECURITY REASONS.', '', '', 'THE (USD$25M) WAS PART OF A PROCEEDS FROM DIAMOND TRADE MEANT FOR THE LATE PRESIDENT LAURENT KABILA WHICH WAS DELIVERED THROUGH ZIMBABWE IN DIPLOMATIC BOXES. THE BOXES WERE KEPT UNDER MY CUSTODY BEFORE THE SAD EVENT THAT TOOK THE LIFE OF (MR. PRESIDENT).THE CONFUSION THAT ENSUED AFTER THE ASSASSINATION AND THE SPORADIC SHOOTING AMONG THE FACTIONS, I HAVE TO RUN AWAY FROM THE COUNTRY FOR MY DEAR LIFE AS I AM NOT A SOLDIER BUT A CIVIL SERVANT I CROSSED RIVER CONGO TO OTHER SIDE OF CONGO LIBREVILLE FROM THERE I MOVED TO THE THIRD COUNTRY GHANA WHERE I AM PRESENTLY TAKING REFUGE. ', '', 'AS A MATTER OF FACT, WHAT I URGENTLY NEEDED FROM YOU IS YOUR ASSISTANCE IN MOVING THIS MONEY INTO YOUR ACCOUNT IN YOUR COUNTRY FOR INVESTMENT WITHOUT RAISING EYEBROW. FOR YOUR ASSISTANCE I WILL GIVE YOU 20% OF THE TOTAL SUM AS YOUR OWN SHARE WHEN THE MONEY GETS TO YOUR ACCOUNT, WHILE 75% WILL BE FOR ME, OF WHICH WITH YOUR KIND ADVICE I HOPE TO INVEST IN PROFITABLE VENTURE IN YOUR COUNTRY IN OTHER TO SETTLE DOWN FOR MEANINGFUL LIFE, AS I AM TIRED OF LIVING IN A WAR ENVIRONMENT. ', '', 'THE REMAINING 5% WILL BE USED TO OFFSET ANY COST INCURRED IN THE CAUSE OF MOVING THE MONEY TO YOUR ACCOUNT. IF THE PROPOSAL IS ACCEPTABLE TO YOU PLEASE CONTACT ME IMMEDIATELY THROUGH THE ABOVE TELEPHONE AND E-MAIL, TO ENABLE ME ARRANGE FACE TO FACE MEETING WITH YOU IN GHANA FOR THE CLEARANCE OF THE FUNDS BEFORE TRANSFRING IT TO YOUR BANK ACCOUNT AS SEEING IS BELIEVING. ', '', 'FINALLY, IT IS IMPORTANT ALSO THAT I LET YOU UNDERSTAND THAT THERE IS NO RISK INVOLVED WHATSOEVER AS THE MONEY HAD NO RECORD IN KINSHASA FOR IT WAS MEANT FOR THE PERSONAL USE OF (MR. PRESIDEND ) BEFORE THE NEFARIOUS INCIDENT OCCURRED, AND ALSO I HAVE ALL THE NECESSARY DOCUMENTS AS REGARDS TO THE FUNDS INCLUDING THE (CERTIFICATE OF DEPOSIT), AS I AM THE DEPOSITOR OF THE CONSIGNMENT.', '', '', 'LOOKING FORWARD TO YOUR URGENT RESPONSE.', '', 'YOUR SINCERELY,', '', 'MR. JAMES NGOLA. ', '', '', '', '', '', '', '', '', '', '', 'From r  Thu Oct 31 08:11:39 2002', 'Return-Path: <bensul2004nng@spinfinder.com>', 'X-Sieve: cmu-sieve 2.0', 'Return-Path: <bensul2004nng@spinfinder.com>', 'Message-Id: <200210311310.g9VDANt24674@bloodwork.mr.itd.UM>', 'From: \"Mr. Ben Suleman\" <bensul2004nng@spinfinder.com>', 'Date: Thu, 31 Oct 2002 05:10:00', 'To: R@M', 'Subject: URGENT ASSISTANCE /RELATIONSHIP (P)', 'MIME-Version: 1.0', 'Content-Type: text/plain;charset=\"iso-8859-1\"', 'Content-Transfer-Encoding: 7bit', 'Status: O', '', 'Dear Friend,', '', 'I am Mr. Ben Suleman a custom officer and work as Assistant controller of the Customs and Excise department Of the Federal Ministry of Internal Affairs stationed at the Murtala Mohammed International Airport, Ikeja, Lagos-Nigeria.', '', 'After the sudden death of the former Head of state of Nigeria General Sanni Abacha on June 8th 1998 his aides and immediate members of his family were arrested while trying to escape from Nigeria in a Chartered jet to Saudi Arabia with 6 trunk boxes Marked \"Diplomatic Baggage\". Acting on a tip-off as they attempted to board the Air Craft,my officials carried out a thorough search on the air craft and discovered that the 6 trunk boxes contained foreign currencies amounting to US$197,570,000.00(One Hundred and  Ninety-Seven Million Five Hundred Seventy Thousand United States Dollars).', '', 'I declared only (5) five boxes to the government and withheld one (1) in my custody containing the sum of (US$30,000,000.00) Thirty Million United States Dollars Only, which has been disguised to prevent their being discovered during transportation process.Due to several media reports on the late head of state about all the money him and his co-government officials stole from our government treasury amounting', 'to US$55 Billion Dollars (ref:ngrguardiannews.com) of July 2nd 1999. Even the London times of July 1998 reported that General Abacha has over US$3.Billion dollars in one account overseas. We decided to conceal this one (1)box till the situation is calm and quite on the issue. The box was thus deposited with a security company here in Nigeria and tagged as \"Precious Stones and Jewellry\" in other that its', 'content will not be discovered. Now that all is calm, we (myself and two of my colleagues in the operations team) are now ready to move this box out of the country through a diplomatic arrangement which is the safest means. ', '', 'However as government officials the Civil Service Code of Conduct does not allow us by law to operate any foreign account or own foreign investment and the amount of money that can be found in our account', 'cannot be more than our salary on the average, thus our handicapp and our need for your assistance to help collect and keep safely in your account this money.', '', 'Therefore we want you to assist us in moving this money out of Nigeria. We shall definitely compensate you handsomely for the assistance. We can do this by instructing the Security Company here in Nigeria to', 'move the consignment to their affiliate branch office outside Nigeria through diplomatic means and the consignment will be termed as Precious Stones and Jewelleries\" which you bought during your visit to Nigeria and is being transfered to your country from here for safe keeping. Then we can arrange to meet at the destination country to take the delivery of the consignment. You will thereafter open an account there and lodge the Money there and gradually instruct remittance to your Country. ', '', 'This business is 100% risk free for you so please treat this matter with utmost confidentiality .If you indicate your interest to assist us please just e-mail me for more Explanation on how we plan to execute the transaction.', '', 'Expecting your response urgently.', '', 'Best regards,', '', 'Mr. Ben Suleman', '', 'From r  Thu Oct 31 17:27:16 2002', 'Return-Path: <obong_715@epatra.com>', 'X-Sieve: cmu-sieve 2.0', 'Return-Path: <obong_715@epatra.com>', 'Message-Id: <200210312227.g9VMQvDj017948@bluewhale.cs.CU>', 'From: \"PRINCE OBONG ELEME\" <obong_715@epatra.com>', 'Reply-To: obong_715@epatra.com', 'To: webmaster@aclweb.org', 'Date: Thu, 31 Oct 2002 22:17:55 +0100', 'Subject: GOOD DAY TO YOU', 'X-Mailer: Microsoft Outlook Express 5.00.2919.6900DM', 'MIME-Version: 1.0', 'Content-Type: text/plain; charset=\"us-ascii\"', 'Content-Transfer-Encoding: 8bit', 'X-MIME-Autoconverted: from quoted-printable to 8bit by sideshowmel.si.UM id g9VMRBW20642', 'Status: RO', '', 'FROM HIS ROYAL MAJESTY (HRM) CROWN RULER OF ELEME KINGDOM ', 'CHIEF DANIEL ELEME, PHD, EZE 1 OF ELEME.E-MAIL ', 'ADDRESS:obong_715@epatra.com  ', '', 'ATTENTION:PRESIDENT,CEO Sir/ Madam. ', '', 'This letter might surprise you because we have met', 'neither in person nor by correspondence. But I believe', 'it is one day that you got to know somebody either in', 'physical or through correspondence. ', '', 'I got your contact through discreet inquiry from the', 'chambers of commerce and industry of your country on', 'the net, you and your organization were revealed as', 'being quite astute in private entrepreneurship, one', 'has no doubt in your ability to handle a financialbusiness transaction. ', '', 'However, I am the first son of His Royal', 'majesty,Obong.D. Eleme , and the traditional Ruler of', 'Eleme Province in the oil producing area of River', 'State of Nigeria. I am making this contact to you in', 'respect of US$60,000,000.00 (Sixty Million United', 'State Dollars), which I inherited, from my latefather. ', '', 'This money was accumulated from royalties paid to my', 'father as compensation by the oil firms located in our', 'area as a result of oil presence on our land, which', 'hamper agriculture, which is our major source oflivelihood. ', '', 'Unfortunately my father died from protracted', 'diabetes.But before his death he called my attention', 'and informed me that he lodged some funds on a two', 'boxes with a security firm with an open beneficiary', 'status. The lodgment security code number was also', 'revealed to me, he then advised me to look for a', 'reliable business partner abroad, that will assist me', 'in investing the money in a lucrative business as a', 'result of economic instability in Nigeria. So this is', 'the main reason why I am contacting you for us to move', 'this money from the security firm to any Country of', 'your choice for investment purpose. ', '', 'So I will like you to be the ultimate beneficiary, so', 'that the funds can be moved in your name and', 'particulars to any Country of your choice where it', 'will be claimed and invested. Hence my father have had', 'intimated the security firm personnel that the', 'beneficiary of the box is his foreign partner whose', 'particulars will be forwarded to the firm when due. ', '', 'But I will guide you Accordingly. As soon as the funds', 'reach, I will then come over to meet you in person, so', 'that we can discuss physically on investment', 'potentials. Based on this assistance my Family and I', 'have unanimously decided to give you 30% of the total', 'money, 5% for Charity home, 10% for expenses, which', 'may arise during this transaction, Fax and phone bills', 'inclusive. The balance of 55% you will invest andmanaged for my Family. ', '', 'I hereby guarantee you that this is not government', 'money, it is not drug money and it is not money from', 'arms deal. Though you have to maintain high degree of', 'confidentiality on this matter. I will give more', 'details about the proceedings of this transaction as', 'soon as I receive your favorable reply. ', '', 'Please reply to my Email Address:obong_715@epatra.com', 'I hope this will be the beginning of a prosperous', 'relationship between my family and your family. ', '', 'Nevertheless if you are for any reason not interested,', 'kindly inform me immediately so that I will look foranother contact. ', '', 'I am waiting for your quick response. ', '', 'Yours faithfully, ', '', 'Prince Obong Abbot ']\n"
     ]
    }
   ],
   "source": [
    "#讀取文本資料\n",
    "#<your code>#\n",
    "f = open(\"sample_emails.txt\",\"r\")\n",
    "a = f.read().splitlines()\n",
    "print(a)"
   ]
  },
  {
   "cell_type": "code",
   "execution_count": 14,
   "metadata": {
    "colab": {},
    "colab_type": "code",
    "id": "XQbjXNKdBLGx",
    "outputId": "97497027-4c29-4dcf-9cf4-94b0081dac54",
    "scrolled": true
   },
   "outputs": [
    {
     "data": {
      "text/plain": [
       "['From r  Wed Oct 30 21:41:56 2002\\n',\n",
       " 'Return-Path: <james_ngola2002@maktoob.com>\\n',\n",
       " 'X-Sieve: cmu-sieve 2.0\\n',\n",
       " 'Return-Path: <james_ngola2002@maktoob.com>\\n',\n",
       " 'Message-Id: <200210310241.g9V2fNm6028281@cs.CU>\\n',\n",
       " 'From: \"MR. JAMES NGOLA.\" <james_ngola2002@maktoob.com>\\n',\n",
       " 'Reply-To: james_ngola2002@maktoob.com\\n',\n",
       " 'To: webmaster@aclweb.org\\n',\n",
       " 'Date: Thu, 31 Oct 2002 02:38:20 +0000\\n',\n",
       " 'Subject: URGENT BUSINESS ASSISTANCE AND PARTNERSHIP\\n',\n",
       " 'X-Mailer: Microsoft Outlook Express 5.00.2919.6900 DM\\n',\n",
       " 'MIME-Version: 1.0\\n',\n",
       " 'Content-Type: text/plain; charset=\"us-ascii\"\\n',\n",
       " 'Content-Transfer-Encoding: 8bit\\n',\n",
       " 'X-MIME-Autoconverted: from quoted-printable to 8bit by sideshowmel.si.UM id g9V2foW24311\\n',\n",
       " 'Status: O\\n',\n",
       " '\\n',\n",
       " 'FROM:MR. JAMES NGOLA.\\n',\n",
       " 'CONFIDENTIAL TEL: 233-27-587908.\\n',\n",
       " 'E-MAIL: (james_ngola2002@maktoob.com).\\n',\n",
       " '\\n',\n",
       " 'URGENT BUSINESS ASSISTANCE AND PARTNERSHIP.\\n',\n",
       " '\\n',\n",
       " '\\n',\n",
       " 'DEAR FRIEND,\\n',\n",
       " '\\n',\n",
       " 'I AM ( DR.) JAMES NGOLA, THE PERSONAL ASSISTANCE TO THE LATE CONGOLESE (PRESIDENT LAURENT KABILA) WHO WAS ASSASSINATED BY HIS BODY GUARD ON 16TH JAN. 2001.\\n',\n",
       " '\\n',\n",
       " '\\n',\n",
       " 'THE INCIDENT OCCURRED IN OUR PRESENCE WHILE WE WERE HOLDING MEETING WITH HIS EXCELLENCY OVER THE FINANCIAL RETURNS FROM THE DIAMOND SALES IN THE AREAS CONTROLLED BY (D.R.C.) DEMOCRATIC REPUBLIC OF CONGO FORCES AND THEIR FOREIGN ALLIES ANGOLA AND ZIMBABWE, HAVING RECEIVED THE PREVIOUS DAY (USD$100M) ONE HUNDRED MILLION UNITED STATES DOLLARS, CASH IN THREE DIPLOMATIC BOXES ROUTED THROUGH ZIMBABWE.\\n',\n",
       " '\\n',\n",
       " 'MY PURPOSE OF WRITING YOU THIS LETTER IS TO SOLICIT FOR YOUR ASSISTANCE AS TO BE A COVER TO THE FUND AND ALSO COLLABORATION IN MOVING THE SAID FUND INTO YOUR BANK ACCOUNT THE SUM OF (USD$25M) TWENTY FIVE MILLION UNITED STATES DOLLARS ONLY, WHICH I DEPOSITED WITH A SECURITY COMPANY IN GHANA, IN A DIPLOMATIC BOX AS GOLDS WORTH (USD$25M) TWENTY FIVE MILLION UNITED STATES DOLLARS ONLY FOR SAFE KEEPING IN A SECURITY VAULT FOR ANY FURTHER INVESTMENT PERHAPS IN YOUR COUNTRY. \\n',\n",
       " '\\n',\n",
       " 'YOU WERE INTRODUCED TO ME BY A RELIABLE FRIEND OF MINE WHO IS A TRAVELLER,AND ALSO A MEMBER OF CHAMBER OF COMMERCE AS A RELIABLE AND TRUSTWORTHY PERSON WHOM I CAN RELY ON AS FOREIGN PARTNER, EVEN THOUGH THE NATURE OF THE TRANSACTION WAS NOT REVEALED TO HIM FOR SECURITY REASONS.\\n',\n",
       " '\\n',\n",
       " '\\n',\n",
       " 'THE (USD$25M) WAS PART OF A PROCEEDS FROM DIAMOND TRADE MEANT FOR THE LATE PRESIDENT LAURENT KABILA WHICH WAS DELIVERED THROUGH ZIMBABWE IN DIPLOMATIC BOXES. THE BOXES WERE KEPT UNDER MY CUSTODY BEFORE THE SAD EVENT THAT TOOK THE LIFE OF (MR. PRESIDENT).THE CONFUSION THAT ENSUED AFTER THE ASSASSINATION AND THE SPORADIC SHOOTING AMONG THE FACTIONS, I HAVE TO RUN AWAY FROM THE COUNTRY FOR MY DEAR LIFE AS I AM NOT A SOLDIER BUT A CIVIL SERVANT I CROSSED RIVER CONGO TO OTHER SIDE OF CONGO LIBREVILLE FROM THERE I MOVED TO THE THIRD COUNTRY GHANA WHERE I AM PRESENTLY TAKING REFUGE. \\n',\n",
       " '\\n',\n",
       " 'AS A MATTER OF FACT, WHAT I URGENTLY NEEDED FROM YOU IS YOUR ASSISTANCE IN MOVING THIS MONEY INTO YOUR ACCOUNT IN YOUR COUNTRY FOR INVESTMENT WITHOUT RAISING EYEBROW. FOR YOUR ASSISTANCE I WILL GIVE YOU 20% OF THE TOTAL SUM AS YOUR OWN SHARE WHEN THE MONEY GETS TO YOUR ACCOUNT, WHILE 75% WILL BE FOR ME, OF WHICH WITH YOUR KIND ADVICE I HOPE TO INVEST IN PROFITABLE VENTURE IN YOUR COUNTRY IN OTHER TO SETTLE DOWN FOR MEANINGFUL LIFE, AS I AM TIRED OF LIVING IN A WAR ENVIRONMENT. \\n',\n",
       " '\\n',\n",
       " 'THE REMAINING 5% WILL BE USED TO OFFSET ANY COST INCURRED IN THE CAUSE OF MOVING THE MONEY TO YOUR ACCOUNT. IF THE PROPOSAL IS ACCEPTABLE TO YOU PLEASE CONTACT ME IMMEDIATELY THROUGH THE ABOVE TELEPHONE AND E-MAIL, TO ENABLE ME ARRANGE FACE TO FACE MEETING WITH YOU IN GHANA FOR THE CLEARANCE OF THE FUNDS BEFORE TRANSFRING IT TO YOUR BANK ACCOUNT AS SEEING IS BELIEVING. \\n',\n",
       " '\\n',\n",
       " 'FINALLY, IT IS IMPORTANT ALSO THAT I LET YOU UNDERSTAND THAT THERE IS NO RISK INVOLVED WHATSOEVER AS THE MONEY HAD NO RECORD IN KINSHASA FOR IT WAS MEANT FOR THE PERSONAL USE OF (MR. PRESIDEND ) BEFORE THE NEFARIOUS INCIDENT OCCURRED, AND ALSO I HAVE ALL THE NECESSARY DOCUMENTS AS REGARDS TO THE FUNDS INCLUDING THE (CERTIFICATE OF DEPOSIT), AS I AM THE DEPOSITOR OF THE CONSIGNMENT.\\n',\n",
       " '\\n',\n",
       " '\\n',\n",
       " 'LOOKING FORWARD TO YOUR URGENT RESPONSE.\\n',\n",
       " '\\n',\n",
       " 'YOUR SINCERELY,\\n',\n",
       " '\\n',\n",
       " 'MR. JAMES NGOLA. \\n',\n",
       " '\\n',\n",
       " '\\n',\n",
       " '\\n',\n",
       " '\\n',\n",
       " '\\n',\n",
       " '\\n',\n",
       " '\\n',\n",
       " '\\n',\n",
       " '\\n',\n",
       " '\\n',\n",
       " 'From r  Thu Oct 31 08:11:39 2002\\n',\n",
       " 'Return-Path: <bensul2004nng@spinfinder.com>\\n',\n",
       " 'X-Sieve: cmu-sieve 2.0\\n',\n",
       " 'Return-Path: <bensul2004nng@spinfinder.com>\\n',\n",
       " 'Message-Id: <200210311310.g9VDANt24674@bloodwork.mr.itd.UM>\\n',\n",
       " 'From: \"Mr. Ben Suleman\" <bensul2004nng@spinfinder.com>\\n',\n",
       " 'Date: Thu, 31 Oct 2002 05:10:00\\n',\n",
       " 'To: R@M\\n',\n",
       " 'Subject: URGENT ASSISTANCE /RELATIONSHIP (P)\\n',\n",
       " 'MIME-Version: 1.0\\n',\n",
       " 'Content-Type: text/plain;charset=\"iso-8859-1\"\\n',\n",
       " 'Content-Transfer-Encoding: 7bit\\n',\n",
       " 'Status: O\\n',\n",
       " '\\n',\n",
       " 'Dear Friend,\\n',\n",
       " '\\n',\n",
       " 'I am Mr. Ben Suleman a custom officer and work as Assistant controller of the Customs and Excise department Of the Federal Ministry of Internal Affairs stationed at the Murtala Mohammed International Airport, Ikeja, Lagos-Nigeria.\\n',\n",
       " '\\n',\n",
       " 'After the sudden death of the former Head of state of Nigeria General Sanni Abacha on June 8th 1998 his aides and immediate members of his family were arrested while trying to escape from Nigeria in a Chartered jet to Saudi Arabia with 6 trunk boxes Marked \"Diplomatic Baggage\". Acting on a tip-off as they attempted to board the Air Craft,my officials carried out a thorough search on the air craft and discovered that the 6 trunk boxes contained foreign currencies amounting to US$197,570,000.00(One Hundred and  Ninety-Seven Million Five Hundred Seventy Thousand United States Dollars).\\n',\n",
       " '\\n',\n",
       " 'I declared only (5) five boxes to the government and withheld one (1) in my custody containing the sum of (US$30,000,000.00) Thirty Million United States Dollars Only, which has been disguised to prevent their being discovered during transportation process.Due to several media reports on the late head of state about all the money him and his co-government officials stole from our government treasury amounting\\n',\n",
       " 'to US$55 Billion Dollars (ref:ngrguardiannews.com) of July 2nd 1999. Even the London times of July 1998 reported that General Abacha has over US$3.Billion dollars in one account overseas. We decided to conceal this one (1)box till the situation is calm and quite on the issue. The box was thus deposited with a security company here in Nigeria and tagged as \"Precious Stones and Jewellry\" in other that its\\n',\n",
       " 'content will not be discovered. Now that all is calm, we (myself and two of my colleagues in the operations team) are now ready to move this box out of the country through a diplomatic arrangement which is the safest means. \\n',\n",
       " '\\n',\n",
       " 'However as government officials the Civil Service Code of Conduct does not allow us by law to operate any foreign account or own foreign investment and the amount of money that can be found in our account\\n',\n",
       " 'cannot be more than our salary on the average, thus our handicapp and our need for your assistance to help collect and keep safely in your account this money.\\n',\n",
       " '\\n',\n",
       " 'Therefore we want you to assist us in moving this money out of Nigeria. We shall definitely compensate you handsomely for the assistance. We can do this by instructing the Security Company here in Nigeria to\\n',\n",
       " 'move the consignment to their affiliate branch office outside Nigeria through diplomatic means and the consignment will be termed as Precious Stones and Jewelleries\" which you bought during your visit to Nigeria and is being transfered to your country from here for safe keeping. Then we can arrange to meet at the destination country to take the delivery of the consignment. You will thereafter open an account there and lodge the Money there and gradually instruct remittance to your Country. \\n',\n",
       " '\\n',\n",
       " 'This business is 100% risk free for you so please treat this matter with utmost confidentiality .If you indicate your interest to assist us please just e-mail me for more Explanation on how we plan to execute the transaction.\\n',\n",
       " '\\n',\n",
       " 'Expecting your response urgently.\\n',\n",
       " '\\n',\n",
       " 'Best regards,\\n',\n",
       " '\\n',\n",
       " 'Mr. Ben Suleman\\n',\n",
       " '\\n',\n",
       " 'From r  Thu Oct 31 17:27:16 2002\\n',\n",
       " 'Return-Path: <obong_715@epatra.com>\\n',\n",
       " 'X-Sieve: cmu-sieve 2.0\\n',\n",
       " 'Return-Path: <obong_715@epatra.com>\\n',\n",
       " 'Message-Id: <200210312227.g9VMQvDj017948@bluewhale.cs.CU>\\n',\n",
       " 'From: \"PRINCE OBONG ELEME\" <obong_715@epatra.com>\\n',\n",
       " 'Reply-To: obong_715@epatra.com\\n',\n",
       " 'To: webmaster@aclweb.org\\n',\n",
       " 'Date: Thu, 31 Oct 2002 22:17:55 +0100\\n',\n",
       " 'Subject: GOOD DAY TO YOU\\n',\n",
       " 'X-Mailer: Microsoft Outlook Express 5.00.2919.6900DM\\n',\n",
       " 'MIME-Version: 1.0\\n',\n",
       " 'Content-Type: text/plain; charset=\"us-ascii\"\\n',\n",
       " 'Content-Transfer-Encoding: 8bit\\n',\n",
       " 'X-MIME-Autoconverted: from quoted-printable to 8bit by sideshowmel.si.UM id g9VMRBW20642\\n',\n",
       " 'Status: RO\\n',\n",
       " '\\n',\n",
       " 'FROM HIS ROYAL MAJESTY (HRM) CROWN RULER OF ELEME KINGDOM \\n',\n",
       " 'CHIEF DANIEL ELEME, PHD, EZE 1 OF ELEME.E-MAIL \\n',\n",
       " 'ADDRESS:obong_715@epatra.com  \\n',\n",
       " '\\n',\n",
       " 'ATTENTION:PRESIDENT,CEO Sir/ Madam. \\n',\n",
       " '\\n',\n",
       " 'This letter might surprise you because we have met\\n',\n",
       " 'neither in person nor by correspondence. But I believe\\n',\n",
       " 'it is one day that you got to know somebody either in\\n',\n",
       " 'physical or through correspondence. \\n',\n",
       " '\\n',\n",
       " 'I got your contact through discreet inquiry from the\\n',\n",
       " 'chambers of commerce and industry of your country on\\n',\n",
       " 'the net, you and your organization were revealed as\\n',\n",
       " 'being quite astute in private entrepreneurship, one\\n',\n",
       " 'has no doubt in your ability to handle a financialbusiness transaction. \\n',\n",
       " '\\n',\n",
       " 'However, I am the first son of His Royal\\n',\n",
       " 'majesty,Obong.D. Eleme , and the traditional Ruler of\\n',\n",
       " 'Eleme Province in the oil producing area of River\\n',\n",
       " 'State of Nigeria. I am making this contact to you in\\n',\n",
       " 'respect of US$60,000,000.00 (Sixty Million United\\n',\n",
       " 'State Dollars), which I inherited, from my latefather. \\n',\n",
       " '\\n',\n",
       " 'This money was accumulated from royalties paid to my\\n',\n",
       " 'father as compensation by the oil firms located in our\\n',\n",
       " 'area as a result of oil presence on our land, which\\n',\n",
       " 'hamper agriculture, which is our major source oflivelihood. \\n',\n",
       " '\\n',\n",
       " 'Unfortunately my father died from protracted\\n',\n",
       " 'diabetes.But before his death he called my attention\\n',\n",
       " 'and informed me that he lodged some funds on a two\\n',\n",
       " 'boxes with a security firm with an open beneficiary\\n',\n",
       " 'status. The lodgment security code number was also\\n',\n",
       " 'revealed to me, he then advised me to look for a\\n',\n",
       " 'reliable business partner abroad, that will assist me\\n',\n",
       " 'in investing the money in a lucrative business as a\\n',\n",
       " 'result of economic instability in Nigeria. So this is\\n',\n",
       " 'the main reason why I am contacting you for us to move\\n',\n",
       " 'this money from the security firm to any Country of\\n',\n",
       " 'your choice for investment purpose. \\n',\n",
       " '\\n',\n",
       " 'So I will like you to be the ultimate beneficiary, so\\n',\n",
       " 'that the funds can be moved in your name and\\n',\n",
       " 'particulars to any Country of your choice where it\\n',\n",
       " 'will be claimed and invested. Hence my father have had\\n',\n",
       " 'intimated the security firm personnel that the\\n',\n",
       " 'beneficiary of the box is his foreign partner whose\\n',\n",
       " 'particulars will be forwarded to the firm when due. \\n',\n",
       " '\\n',\n",
       " 'But I will guide you Accordingly. As soon as the funds\\n',\n",
       " 'reach, I will then come over to meet you in person, so\\n',\n",
       " 'that we can discuss physically on investment\\n',\n",
       " 'potentials. Based on this assistance my Family and I\\n',\n",
       " 'have unanimously decided to give you 30% of the total\\n',\n",
       " 'money, 5% for Charity home, 10% for expenses, which\\n',\n",
       " 'may arise during this transaction, Fax and phone bills\\n',\n",
       " 'inclusive. The balance of 55% you will invest andmanaged for my Family. \\n',\n",
       " '\\n',\n",
       " 'I hereby guarantee you that this is not government\\n',\n",
       " 'money, it is not drug money and it is not money from\\n',\n",
       " 'arms deal. Though you have to maintain high degree of\\n',\n",
       " 'confidentiality on this matter. I will give more\\n',\n",
       " 'details about the proceedings of this transaction as\\n',\n",
       " 'soon as I receive your favorable reply. \\n',\n",
       " '\\n',\n",
       " 'Please reply to my Email Address:obong_715@epatra.com\\n',\n",
       " 'I hope this will be the beginning of a prosperous\\n',\n",
       " 'relationship between my family and your family. \\n',\n",
       " '\\n',\n",
       " 'Nevertheless if you are for any reason not interested,\\n',\n",
       " 'kindly inform me immediately so that I will look foranother contact. \\n',\n",
       " '\\n',\n",
       " 'I am waiting for your quick response. \\n',\n",
       " '\\n',\n",
       " 'Yours faithfully, \\n',\n",
       " '\\n',\n",
       " 'Prince Obong Abbot \\n']"
      ]
     },
     "execution_count": 14,
     "metadata": {},
     "output_type": "execute_result"
    }
   ],
   "source": [
    "sample_corpus"
   ]
  },
  {
   "cell_type": "markdown",
   "metadata": {
    "colab_type": "text",
    "id": "aUg8HenSBLG2"
   },
   "source": [
    "### 讀取寄件者資訊\n",
    "觀察文本資料可以發現, 寄件者資訊都符合以下格式\n",
    "\n",
    "`From: <收件者姓名> <收件者電子郵件>`"
   ]
  },
  {
   "cell_type": "code",
   "execution_count": null,
   "metadata": {
    "colab": {},
    "colab_type": "code",
    "id": "YgsUuHsfBLG2"
   },
   "outputs": [],
   "source": [
    "#<your code>#"
   ]
  },
  {
   "cell_type": "code",
   "execution_count": null,
   "metadata": {
    "colab": {},
    "colab_type": "code",
    "id": "pofRrOGhBLG5",
    "outputId": "28eb134d-2dfa-4743-fae8-1f0abda25968"
   },
   "outputs": [
    {
     "data": {
      "text/plain": [
       "['From: \"MR. JAMES NGOLA.\" <james_ngola2002@maktoob.com>',\n",
       " 'From: \"Mr. Ben Suleman\" <bensul2004nng@spinfinder.com>',\n",
       " 'From: \"PRINCE OBONG ELEME\" <obong_715@epatra.com>']"
      ]
     },
     "execution_count": 16,
     "metadata": {
      "tags": []
     },
     "output_type": "execute_result"
    }
   ],
   "source": [
    "match"
   ]
  },
  {
   "cell_type": "markdown",
   "metadata": {
    "colab_type": "text",
    "id": "Ac8KHAqTBLG7"
   },
   "source": [
    "### 只讀取寄件者姓名"
   ]
  },
  {
   "cell_type": "code",
   "execution_count": null,
   "metadata": {
    "colab": {},
    "colab_type": "code",
    "id": "coBDE2iBBLG8",
    "outputId": "aada7b60-56bb-45ae-f25f-941218a541c2"
   },
   "outputs": [
    {
     "name": "stdout",
     "output_type": "stream",
     "text": [
      "\"MR. JAMES NGOLA.\"\n",
      "\"Mr. Ben Suleman\"\n",
      "\"PRINCE OBONG ELEME\"\n"
     ]
    }
   ],
   "source": [
    "#<your code>#"
   ]
  },
  {
   "cell_type": "markdown",
   "metadata": {
    "colab_type": "text",
    "id": "gaJefecaBLG-"
   },
   "source": [
    "### 只讀取寄件者電子信箱"
   ]
  },
  {
   "cell_type": "code",
   "execution_count": null,
   "metadata": {
    "colab": {},
    "colab_type": "code",
    "id": "G55ADKW_BLG_",
    "outputId": "7f3d9657-87b9-4c78-d324-3df919ee84a7"
   },
   "outputs": [
    {
     "name": "stdout",
     "output_type": "stream",
     "text": [
      "james_ngola2002@maktoob.com\n",
      "bensul2004nng@spinfinder.com\n",
      "obong_715@epatra.com\n"
     ]
    }
   ],
   "source": [
    "#<your code>#"
   ]
  },
  {
   "cell_type": "markdown",
   "metadata": {
    "colab_type": "text",
    "id": "t-RXjNLiBLHC"
   },
   "source": [
    "### 只讀取電子信箱中的寄件機構資訊\n",
    "ex: james_ngola2002@maktoob.com --> 取maktoob"
   ]
  },
  {
   "cell_type": "code",
   "execution_count": null,
   "metadata": {
    "colab": {},
    "colab_type": "code",
    "id": "qC2Sd6_SBLHC",
    "outputId": "14e4e148-a660-4a15-88ac-e781300c9767"
   },
   "outputs": [
    {
     "name": "stdout",
     "output_type": "stream",
     "text": [
      "maktoob\n",
      "spinfinder\n",
      "epatra\n"
     ]
    }
   ],
   "source": [
    "#<your code>#"
   ]
  },
  {
   "cell_type": "markdown",
   "metadata": {
    "colab_type": "text",
    "id": "vfzkuLCWBLHG"
   },
   "source": [
    "### 結合上面的配對方式, 將寄件者的帳號與機構訊返回\n",
    "ex: james_ngola2002@maktoob.com --> [james_ngola2002, maktoob]"
   ]
  },
  {
   "cell_type": "code",
   "execution_count": null,
   "metadata": {
    "colab": {},
    "colab_type": "code",
    "id": "t3lTRThcBLHG",
    "outputId": "e94f295a-ffa4-4897-dc43-e93991aac20e"
   },
   "outputs": [
    {
     "name": "stdout",
     "output_type": "stream",
     "text": [
      "james_ngola2002, maktoob\n",
      "bensul2004nng, spinfinder\n",
      "obong_715, epatra\n"
     ]
    }
   ],
   "source": [
    "#<your code>#"
   ]
  },
  {
   "cell_type": "markdown",
   "metadata": {
    "colab_type": "text",
    "id": "Yl-BMduNBLHJ"
   },
   "source": [
    "### 使用正規表達式對email資料進行處理\n",
    "這裡我們會使用到python其他的套件協助處理(ex: pandas, email, etc)，這裡我們只需要專注在正規表達式上即可，其他的套件是方便我們整理與處理資料。"
   ]
  },
  {
   "cell_type": "markdown",
   "metadata": {
    "colab_type": "text",
    "id": "kqCacQ9tBLHJ"
   },
   "source": [
    "### 讀取與切分Email\n",
    "讀入的email為一個長字串，利用正規表達式切割讀入的資料成一封一封的email，並將結果以list表示。\n",
    "\n",
    "輸出: [email_1, email_2, email_3, ....]"
   ]
  },
  {
   "cell_type": "code",
   "execution_count": null,
   "metadata": {
    "colab": {},
    "colab_type": "code",
    "id": "k9BCVTqoBLHK",
    "outputId": "656ffc81-cb9b-4174-8511-9013985c4cad"
   },
   "outputs": [
    {
     "data": {
      "text/plain": [
       "3977"
      ]
     },
     "execution_count": 171,
     "metadata": {
      "tags": []
     },
     "output_type": "execute_result"
    }
   ],
   "source": [
    "import re\n",
    "import pandas as pd\n",
    "import email\n",
    "\n",
    "###讀取文本資料:fradulent_emails.txt###\n",
    "#<your code>#\n",
    "    \n",
    "###切割讀入的資料成一封一封的email###\n",
    "###我們可以使用list來儲存每一封email###\n",
    "###注意！這裡請仔細觀察sample資料，看資料是如何切分不同email###\n",
    "#<your code>#\n",
    "\n",
    "len(emails) #查看有多少封email"
   ]
  },
  {
   "cell_type": "markdown",
   "metadata": {
    "colab_type": "text",
    "id": "e9IN-2o0BLHM"
   },
   "source": [
    "### 從文本中擷取所有寄件者與收件者的姓名和地址"
   ]
  },
  {
   "cell_type": "code",
   "execution_count": null,
   "metadata": {
    "colab": {},
    "colab_type": "code",
    "id": "d_WRYFpcBLHM"
   },
   "outputs": [],
   "source": [
    "emails_list = [] #創建空list來儲存所有email資訊\n",
    "\n",
    "for mail in emails[:20]: #只取前20筆資料 (處理速度比較快)\n",
    "    emails_dict = dict() #創建空字典儲存資訊\n",
    "    ###取的寄件者姓名與地址###\n",
    "    \n",
    "    #Step1: 取的寄件者資訊 (hint: From:)\n",
    "    #<your code>#\n",
    "    \n",
    "    #Step2: 取的姓名與地址 (hint: 要注意有時會有沒取到配對的情況)\n",
    "    #<your code>#\n",
    "    \n",
    "    #Step3: 將取得的姓名與地址存入字典中\n",
    "    #<your code>#\n",
    "        \n",
    "    \n",
    "    ###取的收件者姓名與地址###\n",
    "    #Step1: 取的寄件者資訊 (hint: To:)\n",
    "    #<your code>#\n",
    "    \n",
    "    #Step2: 取的姓名與地址 (hint: 要注意有時會有沒取到配對的情況)\n",
    "    #<your code>#\n",
    "        \n",
    "    #Step3: 將取得的姓名與地址存入字典中\n",
    "    #<your code>#\n",
    "        \n",
    "        \n",
    "    ###取得信件日期###\n",
    "    #Step1: 取得日期資訊 (hint: To:)\n",
    "    #<your code>#\n",
    "    \n",
    "    #Step2: 取得詳細日期(只需取得DD MMM YYYY)\n",
    "    #<your code>#\n",
    "        \n",
    "    #Step3: 將取得的日期資訊存入字典中\n",
    "    #<your code>#\n",
    "        \n",
    "        \n",
    "    ###取得信件主旨###\n",
    "    #Step1: 取得主旨資訊 (hint: Subject:)\n",
    "    #<your code>#\n",
    "    \n",
    "    #Step2: 移除不必要文字 (hint: Subject: )\n",
    "    #<your code>#\n",
    "    \n",
    "    #Step3: 將取得的主旨存入字典中\n",
    "    #<your code>#\n",
    "    \n",
    "    \n",
    "    ###取得信件內文###\n",
    "    #這裡我們使用email package來取出email內文 (可以不需深究，本章節重點在正規表達式)\n",
    "    try:\n",
    "        full_email = email.message_from_string(mail)\n",
    "        body = full_email.get_payload()\n",
    "        emails_dict[\"email_body\"] = body\n",
    "    except:\n",
    "        emails_dict[\"email_body\"] = None\n",
    "    \n",
    "    ###將字典加入list###\n",
    "    #<your code>#"
   ]
  },
  {
   "cell_type": "code",
   "execution_count": null,
   "metadata": {
    "colab": {},
    "colab_type": "code",
    "id": "CBfQRiYPBLHP"
   },
   "outputs": [],
   "source": [
    "#將處理結果轉化為dataframe\n",
    "emails_df = pd.DataFrame(emails_list)\n",
    "emails_df"
   ]
  }
 ],
 "metadata": {
  "colab": {
   "name": "Python_regular_expression_作業.ipynb",
   "provenance": []
  },
  "kernelspec": {
   "display_name": "Python 3",
   "language": "python",
   "name": "python3"
  },
  "language_info": {
   "codemirror_mode": {
    "name": "ipython",
    "version": 3
   },
   "file_extension": ".py",
   "mimetype": "text/x-python",
   "name": "python",
   "nbconvert_exporter": "python",
   "pygments_lexer": "ipython3",
   "version": "3.7.7"
  }
 },
 "nbformat": 4,
 "nbformat_minor": 1
}
